{
 "cells": [
  {
   "cell_type": "code",
   "execution_count": 198,
   "outputs": [],
   "source": [
    "import os\n",
    "import matplotlib.pyplot as plt\n",
    "import pandas as pd\n",
    "import numpy as np\n",
    "import seaborn as sns\n",
    "\n",
    "import matplotlib as mpl\n",
    "mpl.rcParams['text.usetex'] = True\n",
    "mpl.rcParams['text.latex.preamble'] = r'\\usepackage{libertine}'\n",
    "mpl.rc('font', family='serif')"
   ],
   "metadata": {
    "collapsed": false,
    "pycharm": {
     "name": "#%%\n"
    }
   }
  },
  {
   "cell_type": "code",
   "execution_count": 199,
   "outputs": [],
   "source": [
    "os.getcwd()\n",
    "save_path = os.path.join(os.getcwd(), \"..\", \"save\", \"experiments\")\n",
    "filenames = []\n",
    "for filename in os.listdir(save_path):\n",
    "    if filename.startswith(\"baseline-vary-m\") and filename.endswith(\".csv\"):\n",
    "        filenames.append(filename)"
   ],
   "metadata": {
    "collapsed": false,
    "pycharm": {
     "name": "#%%\n"
    }
   }
  },
  {
   "cell_type": "markdown",
   "source": [
    "Read data"
   ],
   "metadata": {
    "collapsed": false
   }
  },
  {
   "cell_type": "code",
   "execution_count": 200,
   "outputs": [],
   "source": [
    "datasets = []\n",
    "for filename in filenames:\n",
    "    path = os.path.join(save_path, filename)\n",
    "    if os.path.exists(path):\n",
    "        data = pd.read_csv(os.path.join(save_path, filename)).dropna(axis=0)\n",
    "        data.sort_values(by=\"T\", inplace=True)\n",
    "        datasets.append(data)"
   ],
   "metadata": {
    "collapsed": false,
    "pycharm": {
     "name": "#%%\n"
    }
   }
  },
  {
   "cell_type": "markdown",
   "source": [
    "prepare plot data"
   ],
   "metadata": {
    "collapsed": false,
    "pycharm": {
     "name": "#%% md\n"
    }
   }
  },
  {
   "cell_type": "code",
   "execution_count": 201,
   "outputs": [],
   "source": [
    "def get_hist_data(data, percentile=100):\n",
    "    ts = data[\"tsMeasured\"][data[\"target\"] == 5]\n",
    "    t1 = data[\"t1Measured\"][data[\"target\"] == 5]\n",
    "    return ts[ts < np.percentile(ts, percentile)], t1[t1 < np.percentile(t1, percentile)]\n",
    "\n",
    "def get_time_over_iterations(data, percentile=100):\n",
    "    data = data[data[\"experimentRepetition\"] == 0][data[\"round\"] == 3][data[\"target\"] == 1]\n",
    "    ts = data[\"tsMeasured\"]\n",
    "    t1 = data[\"t1Measured\"]\n",
    "    T = data[\"T\"]\n",
    "    return T[ts < np.percentile(ts, percentile)], ts[ts < np.percentile(ts, percentile)], t1[ts < np.percentile(ts, percentile)]"
   ],
   "metadata": {
    "collapsed": false,
    "pycharm": {
     "name": "#%%\n"
    }
   }
  },
  {
   "cell_type": "code",
   "execution_count": 202,
   "outputs": [],
   "source": [
    "def add_data_to_plot(ax, data, percentile=100):\n",
    "    palette = sns.cubehelix_palette(n_colors=2)\n",
    "    ts, t1 = get_hist_data(data, percentile=percentile)\n",
    "    print(len(ts))\n",
    "    print(len(t1))\n",
    "    # ts = np.random.choice(ts, 250, replace=False)\n",
    "    # t1 = np.random.choice(t1, 250, replace=False)\n",
    "    sns.histplot(ts, ax=ax, color=palette[0], label=\"ts\", stat=\"density\")\n",
    "    sns.histplot(t1, ax=ax, color=palette[1], label=\"t1\", stat=\"density\")"
   ],
   "metadata": {
    "collapsed": false,
    "pycharm": {
     "name": "#%%\n"
    }
   }
  },
  {
   "cell_type": "code",
   "execution_count": 203,
   "outputs": [
    {
     "name": "stderr",
     "output_type": "stream",
     "text": [
      "No handles with labels found to put in legend.\n"
     ]
    },
    {
     "name": "stdout",
     "output_type": "stream",
     "text": [
      "35\n",
      "35\n"
     ]
    },
    {
     "ename": "IndexError",
     "evalue": "list index out of range",
     "output_type": "error",
     "traceback": [
      "\u001B[0;31m---------------------------------------------------------------------------\u001B[0m",
      "\u001B[0;31mIndexError\u001B[0m                                Traceback (most recent call last)",
      "\u001B[0;32m<ipython-input-203-20f027f0be9c>\u001B[0m in \u001B[0;36m<module>\u001B[0;34m\u001B[0m\n\u001B[1;32m      5\u001B[0m \u001B[0mplt\u001B[0m\u001B[0;34m.\u001B[0m\u001B[0mlegend\u001B[0m\u001B[0;34m(\u001B[0m\u001B[0;34m)\u001B[0m\u001B[0;34m\u001B[0m\u001B[0;34m\u001B[0m\u001B[0m\n\u001B[1;32m      6\u001B[0m \u001B[0;32mfor\u001B[0m \u001B[0mi\u001B[0m\u001B[0;34m,\u001B[0m \u001B[0max\u001B[0m \u001B[0;32min\u001B[0m \u001B[0menumerate\u001B[0m\u001B[0;34m(\u001B[0m\u001B[0maxes\u001B[0m\u001B[0;34m)\u001B[0m\u001B[0;34m:\u001B[0m\u001B[0;34m\u001B[0m\u001B[0;34m\u001B[0m\u001B[0m\n\u001B[0;32m----> 7\u001B[0;31m     \u001B[0max\u001B[0m\u001B[0;34m.\u001B[0m\u001B[0mset_title\u001B[0m\u001B[0;34m(\u001B[0m\u001B[0;34m\"m = {}\"\u001B[0m\u001B[0;34m.\u001B[0m\u001B[0mformat\u001B[0m\u001B[0;34m(\u001B[0m\u001B[0mfilenames\u001B[0m\u001B[0;34m[\u001B[0m\u001B[0mi\u001B[0m\u001B[0;34m]\u001B[0m\u001B[0;34m.\u001B[0m\u001B[0msplit\u001B[0m\u001B[0;34m(\u001B[0m\u001B[0;34m\"-\"\u001B[0m\u001B[0;34m)\u001B[0m\u001B[0;34m[\u001B[0m\u001B[0;36m1\u001B[0m\u001B[0;34m]\u001B[0m\u001B[0;34m[\u001B[0m\u001B[0;34m:\u001B[0m\u001B[0;34m-\u001B[0m\u001B[0;36m4\u001B[0m\u001B[0;34m]\u001B[0m\u001B[0;34m)\u001B[0m\u001B[0;34m)\u001B[0m\u001B[0;34m\u001B[0m\u001B[0;34m\u001B[0m\u001B[0m\n\u001B[0m\u001B[1;32m      8\u001B[0m \u001B[0mpath\u001B[0m \u001B[0;34m=\u001B[0m \u001B[0mos\u001B[0m\u001B[0;34m.\u001B[0m\u001B[0mpath\u001B[0m\u001B[0;34m.\u001B[0m\u001B[0mjoin\u001B[0m\u001B[0;34m(\u001B[0m\u001B[0mos\u001B[0m\u001B[0;34m.\u001B[0m\u001B[0mgetcwd\u001B[0m\u001B[0;34m(\u001B[0m\u001B[0;34m)\u001B[0m\u001B[0;34m,\u001B[0m \u001B[0;34m\"save\"\u001B[0m\u001B[0;34m,\u001B[0m \u001B[0;34m\"time_model.pdf\"\u001B[0m\u001B[0;34m)\u001B[0m\u001B[0;34m\u001B[0m\u001B[0;34m\u001B[0m\u001B[0m\n\u001B[1;32m      9\u001B[0m \u001B[0mplt\u001B[0m\u001B[0;34m.\u001B[0m\u001B[0mtight_layout\u001B[0m\u001B[0;34m(\u001B[0m\u001B[0;34m)\u001B[0m\u001B[0;34m\u001B[0m\u001B[0;34m\u001B[0m\u001B[0m\n",
      "\u001B[0;31mIndexError\u001B[0m: list index out of range"
     ]
    },
    {
     "data": {
      "text/plain": "<Figure size 648x129.6 with 5 Axes>",
      "image/png": "[encoded data removed]"
     },
     "metadata": {
      "needs_background": "light"
     },
     "output_type": "display_data"
    }
   ],
   "source": [
    "fig, axes = plt.subplots(1, 5, figsize=(9, 1.8), sharey=False, sharex=False)\n",
    "for i, data in enumerate(datasets):\n",
    "    ax = axes[i]\n",
    "    add_data_to_plot(ax, data, percentile=90)\n",
    "plt.legend()\n",
    "for i, ax in enumerate(axes):\n",
    "    ax.set_title(\"m = {}\".format(filenames[i].split(\"-\")[1][:-4]))\n",
    "path = os.path.join(os.getcwd(), \"save\", \"time_model.pdf\")\n",
    "plt.tight_layout()\n",
    "plt.savefig(path)"
   ],
   "metadata": {
    "collapsed": false,
    "pycharm": {
     "name": "#%%\n"
    }
   }
  },
  {
   "cell_type": "code",
   "execution_count": 204,
   "outputs": [
    {
     "name": "stdout",
     "output_type": "stream",
     "text": [
      "      experimentRepetition  round  target    result  variance   quality  \\\n",
      "0                      0.0    2.0     0.0  0.578927  0.101891  0.052568   \n",
      "1                      0.0    2.0     1.0  0.546985  0.115418  0.052568   \n",
      "2                      0.0    2.0     2.0  0.752617  0.065502  0.052568   \n",
      "3                      0.0    2.0     3.0  0.727651  0.095538  0.052568   \n",
      "4                      0.0    2.0     4.0  0.615532  0.095708  0.052568   \n",
      "...                    ...    ...     ...       ...       ...       ...   \n",
      "7405                   0.0   39.0   137.0  0.517406  0.088310  0.904878   \n",
      "7406                   0.0   39.0   137.0  0.517406  0.088310  0.904878   \n",
      "7407                   0.0   39.0   167.0  0.657433  0.092179  0.897038   \n",
      "7408                   0.0   40.0    32.0  0.438762  0.078997  0.910686   \n",
      "7409                   0.0   40.0   167.0  0.656398  0.092790  0.908407   \n",
      "\n",
      "       utility  totalIterations          T       M     m  tsMeasured  \\\n",
      "0     0.157854           2865.0    35271.0    30.0  15.0       121.0   \n",
      "1     0.093970           2880.0    35414.0    30.0  15.0        24.0   \n",
      "2     0.505235           2895.0    35564.0    30.0  15.0        19.0   \n",
      "3     0.455301           2910.0    35681.0    30.0  15.0        13.0   \n",
      "4     0.231064           2925.0    35791.0    30.0  15.0        18.0   \n",
      "...        ...              ...        ...     ...   ...         ...   \n",
      "7405  0.034811         249424.0  1615896.0  1307.0  33.0        12.0   \n",
      "7406  0.034811         249424.0  1615896.0  1307.0  33.0        12.0   \n",
      "7407  0.314866         249433.0  1615994.0  1263.0   9.0        11.0   \n",
      "7408 -0.122476         249508.0  1616891.0  1342.0  75.0        56.0   \n",
      "7409  0.312796         249573.0  1617381.0  1328.0  65.0        19.0   \n",
      "\n",
      "      t1Measured  tsCalculated  t1Calculated   quotient  \n",
      "0      11.000000     49.000000     18.200000  11.000000  \n",
      "1      10.300000    185.000000     -5.800000   2.330097  \n",
      "2       9.900000     36.000000      8.200000   1.919192  \n",
      "3      10.100000     32.000000      8.200000   1.287129  \n",
      "4       9.200000     10.000000     10.600000   1.956522  \n",
      "...          ...           ...           ...        ...  \n",
      "7405    7.000000     63.500000      4.500000   1.714286  \n",
      "7406    7.000000     63.500000      4.500000   1.714286  \n",
      "7407    5.064935     37.166667      4.712121   2.171795  \n",
      "7408    7.954023   -683.312500     16.187500   7.040462  \n",
      "7409    8.888889     60.294118      4.411765   2.137500  \n",
      "\n",
      "[7410 rows x 16 columns]\n"
     ]
    }
   ],
   "source": [
    "datasets = []\n",
    "for filename in filenames:\n",
    "    path = os.path.join(save_path, filename)\n",
    "    if os.path.exists(path):\n",
    "        data = pd.read_csv(os.path.join(save_path, filename)).dropna(axis=0)\n",
    "        data.sort_values(by=\"T\", inplace=True)\n",
    "        datasets.append(data)\n",
    "large_df = pd.concat(datasets, ignore_index=True)\n",
    "large_df[\"quotient\"] = large_df[\"tsMeasured\"] / large_df[\"t1Measured\"]\n",
    "print(large_df)"
   ],
   "metadata": {
    "collapsed": false,
    "pycharm": {
     "name": "#%%\n"
    }
   }
  },
  {
   "cell_type": "code",
   "execution_count": 225,
   "outputs": [
    {
     "data": {
      "text/plain": "<Figure size 648x129.6 with 2 Axes>",
      "image/png": "[encoded data removed]"
     },
     "metadata": {
      "needs_background": "light"
     },
     "output_type": "display_data"
    },
    {
     "data": {
      "text/plain": "<Figure size 432x288 with 0 Axes>"
     },
     "metadata": {},
     "output_type": "display_data"
    }
   ],
   "source": [
    "fig, axes = plt.subplots(1, 2, figsize=(9, 1.8))\n",
    "palette = sns.cubehelix_palette(n_colors=2)\n",
    "sns.lineplot(data=large_df[large_df[\"tsMeasured\"] < np.percentile(large_df[\"tsMeasured\"], 95)],\n",
    "                x=\"m\", y=\"tsMeasured\", color=palette[0], ax=axes[0])\n",
    "sns.lineplot(data=large_df[large_df[\"t1Measured\"] < np.percentile(large_df[\"t1Measured\"], 95)],\n",
    "                x=\"m\", y=\"t1Measured\", color=palette[1], ax=axes[0])\n",
    "sns.histplot(data=large_df[large_df[\"tsMeasured\"] < np.percentile(large_df[\"tsMeasured\"], 95)][\"tsMeasured\"],\n",
    "             color=palette[0], ax=axes[1], label=r\"$t_s$\", stat=\"density\")\n",
    "sns.histplot(data=large_df[large_df[\"t1Measured\"] < np.percentile(large_df[\"t1Measured\"], 95)][\"t1Measured\"],\n",
    "             color=palette[1], ax=axes[1], label=r\"$t_1$\", stat=\"density\")\n",
    "plt.ylim(bottom=0)\n",
    "axes[0].set_ylabel(r\"$t_s, t_1$ $[\\mu s]$\")\n",
    "axes[1].set_xlabel(r\"$t_s, t_1$ $[\\mu s]$\")\n",
    "path = os.path.join(os.getcwd(), \"save\", \"time_model.pdf\")\n",
    "plt.tight_layout()\n",
    "plt.legend()\n",
    "plt.savefig(path)\n",
    "plt.show()\n",
    "plt.clf()"
   ],
   "metadata": {
    "collapsed": false,
    "pycharm": {
     "name": "#%%\n"
    }
   }
  },
  {
   "cell_type": "code",
   "execution_count": 192,
   "outputs": [
    {
     "name": "stdout",
     "output_type": "stream",
     "text": [
      "13.0\n",
      "5.8\n",
      "18.485294117647058\n",
      "5.428571428571429\n"
     ]
    }
   ],
   "source": [
    "print(np.median(large_df[\"tsMeasured\"]))\n",
    "print(np.median(large_df[\"t1Measured\"]))\n",
    "print(np.median(large_df[\"tsCalculated\"]))\n",
    "print(np.median(large_df[\"t1Calculated\"]))"
   ],
   "metadata": {
    "collapsed": false,
    "pycharm": {
     "name": "#%%\n"
    }
   }
  },
  {
   "cell_type": "code",
   "execution_count": 196,
   "outputs": [
    {
     "name": "stdout",
     "output_type": "stream",
     "text": [
      "17.429554655870444\n",
      "6.287503670504843\n",
      "26.276623752559882\n",
      "5.749798349315893\n"
     ]
    }
   ],
   "source": [
    "print(np.mean(large_df[\"tsMeasured\"]))\n",
    "print(np.mean(large_df[\"t1Measured\"]))\n",
    "print(np.mean(large_df[\"tsCalculated\"]))\n",
    "print(np.mean(large_df[\"t1Calculated\"]))"
   ],
   "metadata": {
    "collapsed": false,
    "pycharm": {
     "name": "#%%\n"
    }
   }
  },
  {
   "cell_type": "code",
   "execution_count": 197,
   "outputs": [
    {
     "name": "stdout",
     "output_type": "stream",
     "text": [
      "269.2328917045026\n",
      "2.6886094823661586\n",
      "111972.6990476821\n",
      "32.21537505345826\n"
     ]
    }
   ],
   "source": [
    "print(np.var(large_df[\"tsMeasured\"]))\n",
    "print(np.var(large_df[\"t1Measured\"]))\n",
    "print(np.var(large_df[\"tsCalculated\"]))\n",
    "print(np.var(large_df[\"t1Calculated\"]))"
   ],
   "metadata": {
    "collapsed": false,
    "pycharm": {
     "name": "#%%\n"
    }
   }
  },
  {
   "cell_type": "code",
   "execution_count": null,
   "outputs": [],
   "source": [],
   "metadata": {
    "collapsed": false,
    "pycharm": {
     "name": "#%%\n"
    }
   }
  },
  {
   "cell_type": "code",
   "execution_count": null,
   "outputs": [],
   "source": [],
   "metadata": {
    "collapsed": false,
    "pycharm": {
     "name": "#%%\n"
    }
   }
  },
  {
   "cell_type": "code",
   "execution_count": null,
   "outputs": [],
   "source": [],
   "metadata": {
    "collapsed": false,
    "pycharm": {
     "name": "#%%\n"
    }
   }
  },
  {
   "cell_type": "code",
   "execution_count": null,
   "outputs": [],
   "source": [
    "\n",
    "\n",
    "#"
   ],
   "metadata": {
    "collapsed": false,
    "pycharm": {
     "name": "#%%\n"
    }
   }
  },
  {
   "cell_type": "code",
   "execution_count": 130,
   "outputs": [
    {
     "data": {
      "text/plain": "<matplotlib.legend.Legend at 0x7fd40192ea30>"
     },
     "execution_count": 130,
     "metadata": {},
     "output_type": "execute_result"
    },
    {
     "data": {
      "text/plain": "<Figure size 648x144 with 2 Axes>",
      "image/png": "[encoded data removed]"
     },
     "metadata": {
      "needs_background": "light"
     },
     "output_type": "display_data"
    }
   ],
   "source": [],
   "metadata": {
    "collapsed": false,
    "pycharm": {
     "name": "#%%\n"
    }
   }
  },
  {
   "cell_type": "code",
   "execution_count": null,
   "outputs": [],
   "source": [],
   "metadata": {
    "collapsed": false,
    "pycharm": {
     "name": "#%%\n"
    }
   }
  },
  {
   "cell_type": "code",
   "execution_count": null,
   "outputs": [],
   "source": [],
   "metadata": {
    "collapsed": false,
    "pycharm": {
     "name": "#%%\n"
    }
   }
  },
  {
   "cell_type": "code",
   "execution_count": 80,
   "outputs": [],
   "source": [],
   "metadata": {
    "collapsed": false,
    "pycharm": {
     "name": "#%%"
    }
   }
  },
  {
   "cell_type": "code",
   "execution_count": 16,
   "outputs": [],
   "source": [
    "os.getcwd()\n",
    "save_path = os.path.join(os.getcwd(), \"..\", \"save\", \"experiments\")\n",
    "filename = \"anygrad-sa-1rep.csv\""
   ],
   "metadata": {
    "collapsed": false,
    "pycharm": {
     "name": "#%%\n"
    }
   }
  },
  {
   "cell_type": "markdown",
   "source": [
    "Read data"
   ],
   "metadata": {
    "collapsed": false,
    "pycharm": {
     "name": "#%% md\n"
    }
   }
  },
  {
   "cell_type": "code",
   "execution_count": 20,
   "outputs": [
    {
     "data": {
      "text/plain": "      experimentRepetition  round  target    result  variance   quality  \\\n380                    0.0    2.0     0.0  0.616791  0.078570  0.102372   \n381                    0.0    2.0     1.0  0.529684  0.081137  0.102372   \n382                    0.0    2.0     3.0  0.705923  0.102025  0.102372   \n383                    0.0    2.0     6.0  0.474855  0.085621  0.102372   \n384                    0.0    2.0    10.0  0.801534  0.075723  0.102372   \n...                    ...    ...     ...       ...       ...       ...   \n5505                   0.0   26.0   169.0  0.795739  0.087343  0.900858   \n5506                   0.0   27.0   187.0  0.387959  0.067469  0.906069   \n5507                   0.0   26.0   170.0  0.602647  0.083360  0.904363   \n5508                   0.0   28.0   188.0  0.496824  0.083850  0.903151   \n5509                   0.0   27.0   189.0  0.457031  0.083606  0.903325   \n\n       utility  totalIterations         T       M     m  tsMeasured  \\\n380   0.233582           5730.0    46.446    60.0  30.0    0.022539   \n381   0.059367           5760.0    46.621    60.0  30.0    0.013039   \n382   0.411845           5820.0    46.974    60.0  30.0    0.010539   \n383  -0.050290           5910.0    47.497    60.0  30.0    0.011039   \n384   0.603068           6030.0    48.193    60.0  30.0    0.010039   \n...        ...              ...       ...     ...   ...         ...   \n5505  0.591479         242113.0  1363.614  1284.0  53.0    0.012893   \n5506 -0.224081         247634.0  1392.890  1314.0  50.0    0.012692   \n5507  0.205295         242166.0  1363.882  1304.0  53.0    0.013493   \n5508 -0.006352         248198.0  1396.372  1297.0  50.0    0.012709   \n5509 -0.085938         247738.0  1393.641  1298.0  54.0    0.013492   \n\n      t1Measured  tsCalculated  t1Calculated  \n380     0.009750      0.110000      0.006400  \n381     0.008525      0.099000      0.004300  \n382     0.008575      0.045000      0.006500  \n383     0.008625      0.039000      0.006800  \n384     0.007950      0.029000      0.006800  \n...          ...           ...           ...  \n5505    0.004730     -0.301533      0.011430  \n5506    0.005173      0.255788      0.000973  \n5507    0.004864     -0.217643      0.009652  \n5508    0.005211     -0.110529      0.008118  \n5509    0.004781      0.207754      0.001722  \n\n[5130 rows x 15 columns]",
      "text/html": "<div>\n<style scoped>\n    .dataframe tbody tr th:only-of-type {\n        vertical-align: middle;\n    }\n\n    .dataframe tbody tr th {\n        vertical-align: top;\n    }\n\n    .dataframe thead th {\n        text-align: right;\n    }\n</style>\n<table border=\"1\" class=\"dataframe\">\n  <thead>\n    <tr style=\"text-align: right;\">\n      <th></th>\n      <th>experimentRepetition</th>\n      <th>round</th>\n      <th>target</th>\n      <th>result</th>\n      <th>variance</th>\n      <th>quality</th>\n      <th>utility</th>\n      <th>totalIterations</th>\n      <th>T</th>\n      <th>M</th>\n      <th>m</th>\n      <th>tsMeasured</th>\n      <th>t1Measured</th>\n      <th>tsCalculated</th>\n      <th>t1Calculated</th>\n    </tr>\n  </thead>\n  <tbody>\n    <tr>\n      <th>380</th>\n      <td>0.0</td>\n      <td>2.0</td>\n      <td>0.0</td>\n      <td>0.616791</td>\n      <td>0.078570</td>\n      <td>0.102372</td>\n      <td>0.233582</td>\n      <td>5730.0</td>\n      <td>46.446</td>\n      <td>60.0</td>\n      <td>30.0</td>\n      <td>0.022539</td>\n      <td>0.009750</td>\n      <td>0.110000</td>\n      <td>0.006400</td>\n    </tr>\n    <tr>\n      <th>381</th>\n      <td>0.0</td>\n      <td>2.0</td>\n      <td>1.0</td>\n      <td>0.529684</td>\n      <td>0.081137</td>\n      <td>0.102372</td>\n      <td>0.059367</td>\n      <td>5760.0</td>\n      <td>46.621</td>\n      <td>60.0</td>\n      <td>30.0</td>\n      <td>0.013039</td>\n      <td>0.008525</td>\n      <td>0.099000</td>\n      <td>0.004300</td>\n    </tr>\n    <tr>\n      <th>382</th>\n      <td>0.0</td>\n      <td>2.0</td>\n      <td>3.0</td>\n      <td>0.705923</td>\n      <td>0.102025</td>\n      <td>0.102372</td>\n      <td>0.411845</td>\n      <td>5820.0</td>\n      <td>46.974</td>\n      <td>60.0</td>\n      <td>30.0</td>\n      <td>0.010539</td>\n      <td>0.008575</td>\n      <td>0.045000</td>\n      <td>0.006500</td>\n    </tr>\n    <tr>\n      <th>383</th>\n      <td>0.0</td>\n      <td>2.0</td>\n      <td>6.0</td>\n      <td>0.474855</td>\n      <td>0.085621</td>\n      <td>0.102372</td>\n      <td>-0.050290</td>\n      <td>5910.0</td>\n      <td>47.497</td>\n      <td>60.0</td>\n      <td>30.0</td>\n      <td>0.011039</td>\n      <td>0.008625</td>\n      <td>0.039000</td>\n      <td>0.006800</td>\n    </tr>\n    <tr>\n      <th>384</th>\n      <td>0.0</td>\n      <td>2.0</td>\n      <td>10.0</td>\n      <td>0.801534</td>\n      <td>0.075723</td>\n      <td>0.102372</td>\n      <td>0.603068</td>\n      <td>6030.0</td>\n      <td>48.193</td>\n      <td>60.0</td>\n      <td>30.0</td>\n      <td>0.010039</td>\n      <td>0.007950</td>\n      <td>0.029000</td>\n      <td>0.006800</td>\n    </tr>\n    <tr>\n      <th>...</th>\n      <td>...</td>\n      <td>...</td>\n      <td>...</td>\n      <td>...</td>\n      <td>...</td>\n      <td>...</td>\n      <td>...</td>\n      <td>...</td>\n      <td>...</td>\n      <td>...</td>\n      <td>...</td>\n      <td>...</td>\n      <td>...</td>\n      <td>...</td>\n      <td>...</td>\n    </tr>\n    <tr>\n      <th>5505</th>\n      <td>0.0</td>\n      <td>26.0</td>\n      <td>169.0</td>\n      <td>0.795739</td>\n      <td>0.087343</td>\n      <td>0.900858</td>\n      <td>0.591479</td>\n      <td>242113.0</td>\n      <td>1363.614</td>\n      <td>1284.0</td>\n      <td>53.0</td>\n      <td>0.012893</td>\n      <td>0.004730</td>\n      <td>-0.301533</td>\n      <td>0.011430</td>\n    </tr>\n    <tr>\n      <th>5506</th>\n      <td>0.0</td>\n      <td>27.0</td>\n      <td>187.0</td>\n      <td>0.387959</td>\n      <td>0.067469</td>\n      <td>0.906069</td>\n      <td>-0.224081</td>\n      <td>247634.0</td>\n      <td>1392.890</td>\n      <td>1314.0</td>\n      <td>50.0</td>\n      <td>0.012692</td>\n      <td>0.005173</td>\n      <td>0.255788</td>\n      <td>0.000973</td>\n    </tr>\n    <tr>\n      <th>5507</th>\n      <td>0.0</td>\n      <td>26.0</td>\n      <td>170.0</td>\n      <td>0.602647</td>\n      <td>0.083360</td>\n      <td>0.904363</td>\n      <td>0.205295</td>\n      <td>242166.0</td>\n      <td>1363.882</td>\n      <td>1304.0</td>\n      <td>53.0</td>\n      <td>0.013493</td>\n      <td>0.004864</td>\n      <td>-0.217643</td>\n      <td>0.009652</td>\n    </tr>\n    <tr>\n      <th>5508</th>\n      <td>0.0</td>\n      <td>28.0</td>\n      <td>188.0</td>\n      <td>0.496824</td>\n      <td>0.083850</td>\n      <td>0.903151</td>\n      <td>-0.006352</td>\n      <td>248198.0</td>\n      <td>1396.372</td>\n      <td>1297.0</td>\n      <td>50.0</td>\n      <td>0.012709</td>\n      <td>0.005211</td>\n      <td>-0.110529</td>\n      <td>0.008118</td>\n    </tr>\n    <tr>\n      <th>5509</th>\n      <td>0.0</td>\n      <td>27.0</td>\n      <td>189.0</td>\n      <td>0.457031</td>\n      <td>0.083606</td>\n      <td>0.903325</td>\n      <td>-0.085938</td>\n      <td>247738.0</td>\n      <td>1393.641</td>\n      <td>1298.0</td>\n      <td>54.0</td>\n      <td>0.013492</td>\n      <td>0.004781</td>\n      <td>0.207754</td>\n      <td>0.001722</td>\n    </tr>\n  </tbody>\n</table>\n<p>5130 rows × 15 columns</p>\n</div>"
     },
     "execution_count": 20,
     "metadata": {},
     "output_type": "execute_result"
    }
   ],
   "source": [
    "data = pd.read_csv(os.path.join(save_path, filename)).dropna(axis=0)\n",
    "data"
   ],
   "metadata": {
    "collapsed": false,
    "pycharm": {
     "name": "#%%\n"
    }
   }
  },
  {
   "cell_type": "code",
   "execution_count": 21,
   "outputs": [],
   "source": [
    "tsMeasured = data[\"tsMeasured\"]\n",
    "t1Measured = data[\"t1Measured\"]\n",
    "tsCalculated = data[\"tsCalculated\"]\n",
    "t1Calculated = data[\"t1Calculated\"]"
   ],
   "metadata": {
    "collapsed": false,
    "pycharm": {
     "name": "#%%\n"
    }
   }
  },
  {
   "cell_type": "code",
   "execution_count": 29,
   "outputs": [
    {
     "data": {
      "text/plain": "<Figure size 432x288 with 2 Axes>",
      "image/png": "[encoded data removed]"
     },
     "metadata": {
      "needs_background": "light"
     },
     "output_type": "display_data"
    }
   ],
   "source": [
    "fig, axes = plt.subplots(2, 1, sharex=True)\n",
    "# axes[0].hist(tsMeasured, bins=50)\n",
    "# axes[0].hist(t1Measured, bins=50)\n",
    "axes[1].hist(tsCalculated, bins=50)\n",
    "axes[1].hist(t1Calculated, bins=50)\n",
    "plt.show()"
   ],
   "metadata": {
    "collapsed": false,
    "pycharm": {
     "name": "#%%\n"
    }
   }
  },
  {
   "cell_type": "code",
   "execution_count": null,
   "outputs": [],
   "source": [],
   "metadata": {
    "collapsed": false,
    "pycharm": {
     "name": "#%%\n"
    }
   }
  }
 ],
 "metadata": {
  "kernelspec": {
   "display_name": "Python 3",
   "language": "python",
   "name": "python3"
  },
  "language_info": {
   "codemirror_mode": {
    "name": "ipython",
    "version": 2
   },
   "file_extension": ".py",
   "mimetype": "text/x-python",
   "name": "python",
   "nbconvert_exporter": "python",
   "pygments_lexer": "ipython2",
   "version": "2.7.6"
  }
 },
 "nbformat": 4,
 "nbformat_minor": 0
}