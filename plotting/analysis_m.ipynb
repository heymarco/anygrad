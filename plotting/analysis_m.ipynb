{
 "cells": [
  {
   "cell_type": "code",
   "execution_count": 7,
   "metadata": {
    "collapsed": true
   },
   "outputs": [],
   "source": [
    "import numpy as np\n",
    "import matplotlib.pyplot as plt\n",
    "from mpl_toolkits.mplot3d import Axes3D"
   ]
  },
  {
   "cell_type": "code",
   "execution_count": 33,
   "outputs": [],
   "source": [
    "def m(t_switch: float, t1: float, d1: float, d2: float, default_iterations: float):\n",
    "    a = d1\n",
    "    b = 0.5 * d2\n",
    "    c = t_switch\n",
    "    d = t1\n",
    "    if b == 0 or d == 0:\n",
    "        return default_iterations\n",
    "    under_root = b ** 2 * c ** 2 - a * b * c * d\n",
    "    if under_root < 0:\n",
    "        return default_iterations\n",
    "    m_opt = -(np.sqrt(under_root) + b * c) / (b * d)\n",
    "    if np.isnan(m_opt):\n",
    "        return default_iterations\n",
    "    # if m_opt > 200:\n",
    "    #     return 200\n",
    "    return max(1, int(np.ceil(m_opt)))"
   ],
   "metadata": {
    "collapsed": false,
    "pycharm": {
     "name": "#%%\n"
    }
   }
  },
  {
   "cell_type": "code",
   "execution_count": 38,
   "outputs": [],
   "source": [
    "t_switch = 1.0\n",
    "t1 = np.arange(1000000) / 1000000\n",
    "d1 = 0.05\n",
    "d2 = -0.0005\n",
    "default_iterations = 1"
   ],
   "metadata": {
    "collapsed": false,
    "pycharm": {
     "name": "#%%\n"
    }
   }
  },
  {
   "cell_type": "code",
   "execution_count": 39,
   "outputs": [
    {
     "data": {
      "text/plain": "<Figure size 432x288 with 1 Axes>",
      "image/png": "[encoded data removed]"
     },
     "metadata": {
      "needs_background": "light"
     },
     "output_type": "display_data"
    }
   ],
   "source": [
    "m_list = [m(t_switch, t, d1, d2, default_iterations) for t in t1]\n",
    "plt.plot(t1, m_list)\n",
    "plt.show()"
   ],
   "metadata": {
    "collapsed": false,
    "pycharm": {
     "name": "#%%\n"
    }
   }
  },
  {
   "cell_type": "code",
   "execution_count": null,
   "outputs": [],
   "source": [
    "\n"
   ],
   "metadata": {
    "collapsed": false,
    "pycharm": {
     "name": "#%%\n"
    }
   }
  }
 ],
 "metadata": {
  "kernelspec": {
   "display_name": "Python 3",
   "language": "python",
   "name": "python3"
  },
  "language_info": {
   "codemirror_mode": {
    "name": "ipython",
    "version": 2
   },
   "file_extension": ".py",
   "mimetype": "text/x-python",
   "name": "python",
   "nbconvert_exporter": "python",
   "pygments_lexer": "ipython2",
   "version": "2.7.6"
  }
 },
 "nbformat": 4,
 "nbformat_minor": 0
}